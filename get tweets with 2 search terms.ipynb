{
 "cells": [
  {
   "cell_type": "code",
   "execution_count": 1,
   "id": "f6adb01c",
   "metadata": {},
   "outputs": [],
   "source": [
    "# Get tweets using SNSCRAPE \n",
    "import snscrape.modules.twitter as sntwitter\n",
    "import pandas as pd"
   ]
  },
  {
   "cell_type": "code",
   "execution_count": 4,
   "id": "cb52b1f6",
   "metadata": {},
   "outputs": [
    {
     "name": "stderr",
     "output_type": "stream",
     "text": [
      "/var/folders/lv/fc005q_d2fx0299s750b5vw00000gn/T/ipykernel_4017/3988194475.py:20: FutureWarning: username is deprecated, use user.username instead\n",
      "  tweets.append([tweet.date, tweet.username, tweet.content])\n",
      "/var/folders/lv/fc005q_d2fx0299s750b5vw00000gn/T/ipykernel_4017/3988194475.py:20: FutureWarning: content is deprecated, use rawContent instead\n",
      "  tweets.append([tweet.date, tweet.username, tweet.content])\n"
     ]
    }
   ],
   "source": [
    "# Search term (コロナ　ストレス) OR (コロナ　疲れ)　in English (corona stress)　OR (corona fatigue)\n",
    "# Language Japanese \n",
    "# Time period from 2022-07-18 00:00:00 to 2022-07-24 23:59:59\n",
    "# Remove all tweets with links and retweets\n",
    "# Links mean urls or any media including images and videos\n",
    "# Seach for the last 100 tweets posted contained search words backtracking from 2022-07-24 \n",
    "\n",
    "query = \"(コロナ　ストレス) OR (コロナ　疲れ)　lang:ja until:2022-07-25_00:00:00_JST since:2022-07-18_00:00:00_JST -filter:replies\"\n",
    "tweets = []\n",
    "limit = 200\n",
    "\n",
    "\n",
    "for tweet in sntwitter.TwitterSearchScraper(query).get_items():\n",
    "    \n",
    "    # print(vars(tweet))\n",
    "    # break\n",
    "    if len(tweets) == limit:\n",
    "        break\n",
    "    else:\n",
    "        tweets.append([tweet.date, tweet.username, tweet.content])\n",
    "        \n",
    "df = pd.DataFrame(tweets, columns=['Date', 'User', 'Tweet'])\n",
    "#print(df)\n",
    "#df.to_csv('text_tweets_2keywords2.csv',index=False, encoding = 'utf-8-sig')"
   ]
  },
  {
   "cell_type": "code",
   "execution_count": 5,
   "id": "b6224663",
   "metadata": {},
   "outputs": [],
   "source": [
    "df.to_csv('text_tweets_2keywords2.csv',index=False, encoding = 'utf-8-sig')"
   ]
  },
  {
   "cell_type": "code",
   "execution_count": 3,
   "id": "edf569f8",
   "metadata": {},
   "outputs": [
    {
     "data": {
      "text/html": [
       "<div>\n",
       "<style scoped>\n",
       "    .dataframe tbody tr th:only-of-type {\n",
       "        vertical-align: middle;\n",
       "    }\n",
       "\n",
       "    .dataframe tbody tr th {\n",
       "        vertical-align: top;\n",
       "    }\n",
       "\n",
       "    .dataframe thead th {\n",
       "        text-align: right;\n",
       "    }\n",
       "</style>\n",
       "<table border=\"1\" class=\"dataframe\">\n",
       "  <thead>\n",
       "    <tr style=\"text-align: right;\">\n",
       "      <th></th>\n",
       "      <th>Date</th>\n",
       "      <th>User</th>\n",
       "      <th>Tweet</th>\n",
       "    </tr>\n",
       "  </thead>\n",
       "  <tbody>\n",
       "  </tbody>\n",
       "</table>\n",
       "</div>"
      ],
      "text/plain": [
       "Empty DataFrame\n",
       "Columns: [Date, User, Tweet]\n",
       "Index: []"
      ]
     },
     "execution_count": 3,
     "metadata": {},
     "output_type": "execute_result"
    }
   ],
   "source": [
    "duplicateRows = df[df.duplicated(['Tweet'])]\n",
    "duplicateRows"
   ]
  },
  {
   "cell_type": "code",
   "execution_count": 26,
   "id": "fa219ba3",
   "metadata": {},
   "outputs": [
    {
     "data": {
      "text/plain": [
       "'完全自粛スタンプ販売中です。給付金よもう一度…！！コロナ禍の中、ソーシャルディスタンスを保って3密を回避しながら自粛疲れを乗り切ろう！\\n\\nhttps://t.co/ohvGfLpWFp\\n\\n#LINE #LINEスタンプ https://t.co/NL5ds3JA6y'"
      ]
     },
     "execution_count": 26,
     "metadata": {},
     "output_type": "execute_result"
    }
   ],
   "source": [
    "df['Tweet'].loc[114]"
   ]
  },
  {
   "cell_type": "code",
   "execution_count": 15,
   "id": "74f07b59",
   "metadata": {},
   "outputs": [],
   "source": [
    "df.to_csv('text_tweets_3keywords.csv',index=False, encoding = 'utf-8-sig')"
   ]
  },
  {
   "cell_type": "code",
   "execution_count": null,
   "id": "86bf7fec",
   "metadata": {},
   "outputs": [],
   "source": []
  }
 ],
 "metadata": {
  "kernelspec": {
   "display_name": "Python 3 (ipykernel)",
   "language": "python",
   "name": "python3"
  },
  "language_info": {
   "codemirror_mode": {
    "name": "ipython",
    "version": 3
   },
   "file_extension": ".py",
   "mimetype": "text/x-python",
   "name": "python",
   "nbconvert_exporter": "python",
   "pygments_lexer": "ipython3",
   "version": "3.8.13"
  }
 },
 "nbformat": 4,
 "nbformat_minor": 5
}
