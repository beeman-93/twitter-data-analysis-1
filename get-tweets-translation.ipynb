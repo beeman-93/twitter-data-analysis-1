{
 "cells": [
  {
   "cell_type": "code",
   "execution_count": 1,
   "id": "c75bdafe",
   "metadata": {},
   "outputs": [],
   "source": [
    "# Get tweets using SNSCRAPE \n",
    "import snscrape.modules.twitter as sntwitter\n",
    "import pandas as pd\n",
    "import os\n",
    "\n"
   ]
  },
  {
   "cell_type": "code",
   "execution_count": 2,
   "id": "7f2be383",
   "metadata": {},
   "outputs": [
    {
     "name": "stderr",
     "output_type": "stream",
     "text": [
      "/var/folders/lv/fc005q_d2fx0299s750b5vw00000gn/T/ipykernel_6209/82421498.py:18: FutureWarning: content is deprecated, use rawContent instead\n",
      "  tweets.append([tweet.date, tweet.id, tweet.content])\n"
     ]
    }
   ],
   "source": [
    "# Search term (コロナ　ストレス)　in English (corona stress)\n",
    "# Language Japanese \n",
    "# Time period from 2022-07-18 00:00:00 to 2022-07-24 23:59:59\n",
    "# Remove all tweets with links and retweets\n",
    "# Links mean urls or any media including images and videos\n",
    "# Seach for the last 100 tweets posted contained search words backtracking from 2022-07-24 \n",
    "\n",
    "query = \"(コロナ　ストレス) lang:ja until:2022-07-25 since:2022-07-18 -filer:links -filter:replies\"\n",
    "tweets = []\n",
    "limit = 100\n",
    "\n",
    "\n",
    "for tweet in sntwitter.TwitterSearchScraper(query).get_items():\n",
    "    \n",
    "    # print(vars(tweet))\n",
    "    # break\n",
    "    if len(tweets) == limit:\n",
    "        break\n",
    "    else:\n",
    "        tweets.append([tweet.date, tweet.id, tweet.content])\n",
    "        \n",
    "df = pd.DataFrame(tweets, columns=['Date', 'ID', 'Tweet'])\n",
    "#print(df)\n",
    "df.to_csv('text_tweets.csv',index=False, encoding = 'utf-8-sig')\n",
    "\n",
    "\n"
   ]
  },
  {
   "cell_type": "code",
   "execution_count": 7,
   "id": "a5de3e4b",
   "metadata": {},
   "outputs": [],
   "source": [
    "# Translate the result using googletrans \n",
    "\n",
    "from googletrans import Translator\n",
    "translator = Translator()\n",
    "df['Translated'] = df['Tweet'].apply(lambda x: translator.translate(x, dest='en',src='ja').text)\n"
   ]
  },
  {
   "cell_type": "code",
   "execution_count": 10,
   "id": "14b0f3d3",
   "metadata": {},
   "outputs": [],
   "source": [
    "df.to_csv('text_tweets_trans.csv',index=False, encoding = 'utf-8-sig')\n",
    "\n"
   ]
  },
  {
   "cell_type": "code",
   "execution_count": null,
   "id": "ac076377",
   "metadata": {},
   "outputs": [],
   "source": []
  }
 ],
 "metadata": {
  "kernelspec": {
   "display_name": "Python 3 (ipykernel)",
   "language": "python",
   "name": "python3"
  },
  "language_info": {
   "codemirror_mode": {
    "name": "ipython",
    "version": 3
   },
   "file_extension": ".py",
   "mimetype": "text/x-python",
   "name": "python",
   "nbconvert_exporter": "python",
   "pygments_lexer": "ipython3",
   "version": "3.8.13"
  }
 },
 "nbformat": 4,
 "nbformat_minor": 5
}
