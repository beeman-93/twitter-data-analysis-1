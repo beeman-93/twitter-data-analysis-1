{
 "cells": [
  {
   "cell_type": "code",
   "execution_count": 1,
   "id": "8c26c3dc",
   "metadata": {},
   "outputs": [],
   "source": [
    "# Get tweets using SNSCRAPE \n",
    "import snscrape.modules.twitter as sntwitter\n",
    "import pandas as pd"
   ]
  },
  {
   "cell_type": "code",
   "execution_count": 4,
   "id": "18ca5f08",
   "metadata": {},
   "outputs": [
    {
     "name": "stderr",
     "output_type": "stream",
     "text": [
      "/var/folders/lv/fc005q_d2fx0299s750b5vw00000gn/T/ipykernel_4017/3988194475.py:20: FutureWarning: username is deprecated, use user.username instead\n",
      "  tweets.append([tweet.date, tweet.username, tweet.content])\n",
      "/var/folders/lv/fc005q_d2fx0299s750b5vw00000gn/T/ipykernel_4017/3988194475.py:20: FutureWarning: content is deprecated, use rawContent instead\n",
      "  tweets.append([tweet.date, tweet.username, tweet.content])\n"
     ]
    }
   ],
   "source": [
    "# Search term (コロナ　ストレス) OR (コロナ　疲れ)　in English (corona stress)　OR (corona fatigue)\n",
    "# Language Japanese \n",
    "# Time period from 2022-07-18 00:00:00 to 2022-07-24 23:59:59\n",
    "# Remove all tweets with links and retweets\n",
    "# Links mean urls or any media including images and videos\n",
    "# Seach for the last 100 tweets posted contained search words backtracking from 2022-07-24 \n",
    "\n",
    "query = \"(コロナ　ストレス) OR (コロナ　疲れ)　lang:ja until:2022-07-25_00:00:00_JST since:2022-07-18_00:00:00_JST -filter:replies\"\n",
    "tweets = []\n",
    "limit = 200\n",
    "\n",
    "\n",
    "for tweet in sntwitter.TwitterSearchScraper(query).get_items():\n",
    "    \n",
    "    # print(vars(tweet))\n",
    "    # break\n",
    "    if len(tweets) == limit:\n",
    "        break\n",
    "    else:\n",
    "        tweets.append([tweet.date, tweet.username, tweet.content])\n",
    "        \n",
    "df = pd.DataFrame(tweets, columns=['Date', 'User', 'Tweet'])\n",
    "#print(df)\n",
    "#df.to_csv('text_tweets_2keywords2.csv',index=False, encoding = 'utf-8-sig')"
   ]
  },
  {
   "cell_type": "code",
   "execution_count": 5,
   "id": "08985374",
   "metadata": {},
   "outputs": [],
   "source": [
    "df.to_csv('text_tweets_2keywords2.csv',index=False, encoding = 'utf-8-sig')"
   ]
  },
  {
   "cell_type": "code",
   "execution_count": null,
   "id": "a480ff32",
   "metadata": {},
   "outputs": [],
   "source": []
  }
 ],
 "metadata": {
  "kernelspec": {
   "display_name": "Python 3 (ipykernel)",
   "language": "python",
   "name": "python3"
  },
  "language_info": {
   "codemirror_mode": {
    "name": "ipython",
    "version": 3
   },
   "file_extension": ".py",
   "mimetype": "text/x-python",
   "name": "python",
   "nbconvert_exporter": "python",
   "pygments_lexer": "ipython3",
   "version": "3.8.13"
  }
 },
 "nbformat": 4,
 "nbformat_minor": 5
}
