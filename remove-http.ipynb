{
 "cells": [
  {
   "cell_type": "code",
   "execution_count": 1,
   "id": "7a01ee22",
   "metadata": {},
   "outputs": [],
   "source": [
    "import pandas as pd"
   ]
  },
  {
   "cell_type": "code",
   "execution_count": 2,
   "id": "bb07b885",
   "metadata": {},
   "outputs": [],
   "source": [
    "df=pd.read_csv('text_tweets2.csv')"
   ]
  },
  {
   "cell_type": "code",
   "execution_count": 4,
   "id": "4c60cbed",
   "metadata": {},
   "outputs": [
    {
     "name": "stdout",
     "output_type": "stream",
     "text": [
      "0     親父の容態の心配、自宅待機で会社に行けずお金が貰えないストレス、自分もコロナに感染したかもし...\n",
      "1     友達今ディズニー行ってるらしい\\nいいなぁ私なんて仙台に行きたい！って言ったらコロナを言い訳...\n",
      "2     コロナ感染者が続々と(T-T)\\n気の合う仲間と遊ぶのが好きなのに。\\n会えないってこんなに...\n",
      "3     美容にも健康にもストレスは大敵。私の周りは自分で自分を幸せにできる人多め。ご機嫌な自分をつく...\n",
      "4     息子に続き、ダンナも陽性に\\nなんかもう、いろいろと大変\\n同居のお義母さんはガンステージⅢ...\n",
      "                            ...                        \n",
      "95    最近は病院行っても\\n「ストレスですね」\\nか\\n「老化ですね」\\nしか言われなかったけど、...\n",
      "96    今日はミニオンを観に行ってきました😆✨✨✨可愛かったし楽しかったー✨コロナが怖いので田舎の映...\n",
      "97    推しのコロナ感染と就活のストレスと生理が重なってる今、メンタルゴミカスすぎてやべ〜 こんな時...\n",
      "98    新型コロナウイルスに感染して、多分一番ストレスのかからない方法。\\n\\n・症状が出たら家に帰...\n",
      "99    は？新規感染者日本が世界1？\\n\\nマスクもワクチンもどこのお国よりも\\nやってるはずですが...\n",
      "Name: Tweet_no_http, Length: 100, dtype: object\n"
     ]
    },
    {
     "name": "stderr",
     "output_type": "stream",
     "text": [
      "/var/folders/lv/fc005q_d2fx0299s750b5vw00000gn/T/ipykernel_6288/3128750777.py:3: FutureWarning: The default value of regex will change from True to False in a future version.\n",
      "  dataframe['Tweet_no_http'] = dataframe['Tweet'].str.replace('http[s]?://(?:[a-zA-Z]|[0-9]|[$-_@.&+]|[!*\\(\\),]|(?:%[0-9a-fA-F][0-9a-fA-F]))+', ' ')\n"
     ]
    }
   ],
   "source": [
    "def clean_data(dataframe):\n",
    "#replace URL of a text\n",
    "    dataframe['Tweet_no_http'] = dataframe['Tweet'].str.replace('http[s]?://(?:[a-zA-Z]|[0-9]|[$-_@.&+]|[!*\\(\\),]|(?:%[0-9a-fA-F][0-9a-fA-F]))+', ' ')\n",
    "\n",
    "#clean_data(df)\n",
    "# print(df['Tweet_no_http'])"
   ]
  },
  {
   "cell_type": "code",
   "execution_count": 5,
   "id": "c3c37294",
   "metadata": {},
   "outputs": [],
   "source": [
    "df.to_csv('text_tweets_no_http.csv',index=False, encoding = 'utf-8-sig')"
   ]
  },
  {
   "cell_type": "code",
   "execution_count": null,
   "id": "9b5368a5",
   "metadata": {},
   "outputs": [],
   "source": []
  }
 ],
 "metadata": {
  "kernelspec": {
   "display_name": "Python 3 (ipykernel)",
   "language": "python",
   "name": "python3"
  },
  "language_info": {
   "codemirror_mode": {
    "name": "ipython",
    "version": 3
   },
   "file_extension": ".py",
   "mimetype": "text/x-python",
   "name": "python",
   "nbconvert_exporter": "python",
   "pygments_lexer": "ipython3",
   "version": "3.8.13"
  }
 },
 "nbformat": 4,
 "nbformat_minor": 5
}
